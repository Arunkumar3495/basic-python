{
 "cells": [
  {
   "cell_type": "code",
   "execution_count": 1,
   "id": "c441f928",
   "metadata": {},
   "outputs": [
    {
     "name": "stdout",
     "output_type": "stream",
     "text": [
      "1 tea kuduthachi\n",
      "2 tea kuduthachi\n",
      "3 tea kuduthachi\n"
     ]
    }
   ],
   "source": [
    "## while loop\n",
    "\n",
    "person = 1\n",
    "while person<=3:\n",
    "    print(f'{person} tea kuduthachi')\n",
    "    person = person+1\n",
    "    \n",
    "    "
   ]
  },
  {
   "cell_type": "code",
   "execution_count": 3,
   "id": "fd439112",
   "metadata": {},
   "outputs": [
    {
     "name": "stdout",
     "output_type": "stream",
     "text": [
      "6\n"
     ]
    }
   ],
   "source": [
    "number =1\n",
    "total=0\n",
    "while number <=3:\n",
    "    total = total + number\n",
    "    number +=1\n",
    "print(total)"
   ]
  },
  {
   "cell_type": "code",
   "execution_count": 6,
   "id": "cc047c1a",
   "metadata": {},
   "outputs": [
    {
     "name": "stdout",
     "output_type": "stream",
     "text": [
      "Enter the positive number:5\n",
      "23\n"
     ]
    }
   ],
   "source": [
    "given_number = int(input('Enter the positive number:'))\n",
    "number=1\n",
    "while number <= given_number:\n",
    "    total = total + number\n",
    "    number +=1\n",
    "print(total)"
   ]
  },
  {
   "cell_type": "code",
   "execution_count": 7,
   "id": "d4466a2a",
   "metadata": {},
   "outputs": [
    {
     "name": "stdout",
     "output_type": "stream",
     "text": [
      "6\n"
     ]
    }
   ],
   "source": [
    "## for loop\n",
    "given_number  = [1,2,3]\n",
    "total=0\n",
    "for number in given_number:\n",
    "    total = total +number\n",
    "print(total)"
   ]
  },
  {
   "cell_type": "code",
   "execution_count": 10,
   "id": "5b4e8a4a",
   "metadata": {},
   "outputs": [
    {
     "name": "stdout",
     "output_type": "stream",
     "text": [
      "Enter the positive values in comma separted:1,2,3\n",
      "6\n"
     ]
    }
   ],
   "source": [
    "## list is input\n",
    "given_numbers = input('Enter the positive values in comma separted:')\n",
    "\n",
    "converted_list = given_numbers.split(',')\n",
    "total=0\n",
    "for number in converted_list:\n",
    "    total = total+int(number)\n",
    "    \n",
    "print(total)"
   ]
  },
  {
   "cell_type": "code",
   "execution_count": 3,
   "id": "8066de3b",
   "metadata": {},
   "outputs": [
    {
     "name": "stdout",
     "output_type": "stream",
     "text": [
      "your parotta is ready\n"
     ]
    }
   ],
   "source": [
    "total_dishes = ['parotta','dosa']\n",
    "if 'dosas' in total_dishes:\n",
    "    print('your is ready')\n",
    "elif 'noodles' in total_dishes:\n",
    "    print('your food is ready')\n",
    "elif 'parotta' in total_dishes:\n",
    "    print('your parotta is ready')"
   ]
  },
  {
   "cell_type": "code",
   "execution_count": 4,
   "id": "8c8667d1",
   "metadata": {},
   "outputs": [
    {
     "name": "stdout",
     "output_type": "stream",
     "text": [
      "21\n"
     ]
    }
   ],
   "source": [
    "a =[1,2,3,4,5,6]\n",
    "total=0\n",
    "for number in a:\n",
    "    total = total + number\n",
    "print(total)"
   ]
  },
  {
   "cell_type": "code",
   "execution_count": 6,
   "id": "59eafcec",
   "metadata": {},
   "outputs": [
    {
     "name": "stdout",
     "output_type": "stream",
     "text": [
      "11\n"
     ]
    }
   ],
   "source": [
    "a=[1,2,3,4,5]\n",
    "total=0\n",
    "for number in a:\n",
    "    if number ==4:\n",
    "        continue\n",
    "    total = total + number\n",
    "print(total) "
   ]
  },
  {
   "cell_type": "code",
   "execution_count": 7,
   "id": "ed2affab",
   "metadata": {},
   "outputs": [
    {
     "name": "stdout",
     "output_type": "stream",
     "text": [
      "6\n"
     ]
    }
   ],
   "source": [
    "a=[1,2,3,4,5]\n",
    "total=0\n",
    "for number in a:\n",
    "    if number ==4:\n",
    "        break\n",
    "    total = total + number\n",
    "print(total) "
   ]
  },
  {
   "cell_type": "code",
   "execution_count": null,
   "id": "274a9f36",
   "metadata": {},
   "outputs": [],
   "source": []
  }
 ],
 "metadata": {
  "kernelspec": {
   "display_name": "Python 3 (ipykernel)",
   "language": "python",
   "name": "python3"
  },
  "language_info": {
   "codemirror_mode": {
    "name": "ipython",
    "version": 3
   },
   "file_extension": ".py",
   "mimetype": "text/x-python",
   "name": "python",
   "nbconvert_exporter": "python",
   "pygments_lexer": "ipython3",
   "version": "3.9.13"
  }
 },
 "nbformat": 4,
 "nbformat_minor": 5
}
